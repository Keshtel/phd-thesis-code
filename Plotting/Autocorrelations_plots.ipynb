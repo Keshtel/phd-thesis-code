{
 "cells": [
  {
   "cell_type": "markdown",
   "id": "dcd65285-fd2e-4ff9-ba49-2ed47829ff34",
   "metadata": {},
   "source": [
    "In this notebook the autocorrelations function and time scale is computed for neurons and neurites activity as well as the behaviors\n",
    "The data is first smoothed or interpolated with different methods.\n",
    "Autocorrelation fuction can be derived for different versions of the data (smoothed, gap-filled,interpolated, ...) but in the end most plots are generated for not-smoothed raw data. You can generate them again by replacing raw data (MegaData0) with smoothed (MegaData) or intepolated (MegaData_interp) data."
   ]
  },
  {
   "cell_type": "code",
   "execution_count": null,
   "id": "886a03a5-0ad5-45fd-a5da-7a88ff50d83a",
   "metadata": {},
   "outputs": [],
   "source": [
    "import h5py\n",
    "import numpy as np\n",
    "import Functions.Binning as Bin\n",
    "import Functions.Regressors as Rss\n",
    "import copy\n",
    "import importlib\n",
    "import matplotlib.pyplot as plt\n",
    "import Functions.AllFunctions as AllF\n",
    "import Functions.Make_pandaBinsDataset as MPB\n",
    "import pandas as pd\n",
    "from scipy.signal import correlate\n",
    "from scipy.optimize import curve_fit\n",
    "import math\n",
    "import Functions.Autocorr as Aut\n",
    "from scipy.signal import find_peaks\n",
    "from scipy.signal import savgol_filter\n",
    "from numpy.polynomial.polynomial import Polynomial"
   ]
  },
  {
   "cell_type": "markdown",
   "id": "e2d04b49-98c2-409c-8e29-2ddd29333639",
   "metadata": {},
   "source": [
    "# Read and Prepare data"
   ]
  },
  {
   "cell_type": "code",
   "execution_count": null,
   "id": "d775b417-d694-496e-80ac-1530b9edd21f",
   "metadata": {},
   "outputs": [],
   "source": [
    "h5 = h5  = h5py.File('MegaData7_7worms_V5.h5', 'r')#'MegaData7_7worms_V2_update.h5'#'MegaData7_copy4.h5'"
   ]
  },
  {
   "cell_type": "code",
   "execution_count": null,
   "id": "7c8aff67-e664-46ca-a9c5-efb73c6c827c",
   "metadata": {},
   "outputs": [],
   "source": [
    "outDir = '/mnt/DATA/Mahsa/movies/LongRecordings/Plotting/Plot/AutoCorr/'\n",
    "res = 300# resolution of the images you save"
   ]
  },
  {
   "cell_type": "code",
   "execution_count": null,
   "id": "726afa25-b597-40d4-91fb-024ef26f4de7",
   "metadata": {},
   "outputs": [],
   "source": [
    "L= h5['data_sets_info/lowercam_length']\n",
    "n_title = [s.decode('utf-8') for s in list(h5['data_sets_info/neuron_names'])]\n",
    "MegaData0 = np.copy(h5['data/dataraw'])\n",
    "MegaData0[np.isnan(MegaData0)]=0"
   ]
  },
  {
   "cell_type": "code",
   "execution_count": null,
   "id": "2d4b8706-d3bc-402a-9456-9e5c4462961c",
   "metadata": {},
   "outputs": [],
   "source": [
    "MegaData =copy.deepcopy(MegaData0)"
   ]
  },
  {
   "cell_type": "code",
   "execution_count": null,
   "id": "d3842674-1b7a-47ec-a1ae-3a949915ee9f",
   "metadata": {},
   "outputs": [],
   "source": [
    "smooth=True\n",
    "gapfilled = True\n",
    "numW=7"
   ]
  },
  {
   "cell_type": "code",
   "execution_count": null,
   "id": "4dedc6a9-7988-4f7a-9119-b95969dc40ea",
   "metadata": {},
   "outputs": [],
   "source": [
    "for i in range(55):\n",
    "    if i >12 and not (i in [27,28,39,40]):\n",
    "        MegaData[5,:243,i] = 0\n",
    "        MegaData0[5,:243,i] = 0\n",
    "\n",
    "\n",
    "for i in range(55):\n",
    "    MegaData[6,L[6]:,i] = 0\n",
    "    MegaData0[6,L[6]:,i] = 0"
   ]
  },
  {
   "cell_type": "code",
   "execution_count": null,
   "id": "672ae327-18ea-44e6-bbb8-40d45c6028a6",
   "metadata": {},
   "outputs": [],
   "source": [
    "sm = [2,2,2,3,4,3,3]\n",
    "g=[5,5,5,7,10,7,7]\n",
    "if smooth:\n",
    "    for d in range(7):\n",
    "        for i in range(55):\n",
    "            if not (i in [10,11,12]):\n",
    "                MegaData[d,:L[d],i] = Bin.smooth_vec_long(MegaData0[d,:L[d],i],sm[d],g[d])\n",
    "\n",
    "MegaData_filled =copy.deepcopy(MegaData0)\n",
    "importlib.reload(AllF)\n",
    "if gapfilled:\n",
    "    for d in range(7):\n",
    "        for i in range(55):\n",
    "            if not (i in [10,11,12]):\n",
    "                MegaData_filled[d,:L[d],i] = AllF.fill_in_gaps(MegaData0[d,:L[d],i],g[d])\n",
    "\n",
    "MegaData_fs =copy.deepcopy(MegaData0)\n",
    "if smooth and gapfilled:\n",
    "    for d in range(7):\n",
    "        for i in range(55):\n",
    "            if not (i in [10,11,12]):\n",
    "                MegaData_fs[d,:L[d],i] = Bin.smooth_vec_long(MegaData_filled[d,:L[d],i],sm[d],g[d])"
   ]
  },
  {
   "cell_type": "code",
   "execution_count": null,
   "id": "577aa045-9e49-4fe0-b81d-ead6eedfdf76",
   "metadata": {},
   "outputs": [],
   "source": [
    "MegaData_filled[MegaData_filled==0] = np.nan"
   ]
  },
  {
   "cell_type": "code",
   "execution_count": null,
   "id": "51d6169c-1ad0-471f-a875-f54ba67de2f7",
   "metadata": {},
   "outputs": [],
   "source": [
    "MegaData_interp = copy.deepcopy(MegaData_filled)\n",
    "for d in range(numW):\n",
    "    for n in range(55):\n",
    "        if not (n in [10,11,12]):\n",
    "            time = MegaData0[d,:L[d],12]\n",
    "            values = MegaData_filled[d,:L[d],n]\n",
    "            df = pd.DataFrame({'time': time, 'values': values})\n",
    "            window_size = 3\n",
    "            df['values2'] = df['values'].interpolate(method='linear')\n",
    "            smoothed_values1 = savgol_filter(df['values2'], window_length=5, polyorder=1)\n",
    "            df['smoothed_values1'] = smoothed_values1\n",
    "            MegaData_interp[d,:L[d],n] = smoothed_values1"
   ]
  },
  {
   "cell_type": "code",
   "execution_count": null,
   "id": "7a6fc4d0-64d2-41c1-bf42-ef854442bff3",
   "metadata": {},
   "outputs": [],
   "source": [
    "MegaData_interp[np.isnan(MegaData_interp)]=0\n",
    "MegaData_filled[np.isnan(MegaData_filled)]=0"
   ]
  },
  {
   "cell_type": "markdown",
   "id": "1fff3736-5c48-44b2-a809-d3ca76b480ad",
   "metadata": {},
   "source": [
    "## Plot different autocorrelation functions with or without considering 0 values to tes\n",
    "This cell is not necessary for the PhD plots"
   ]
  },
  {
   "cell_type": "code",
   "execution_count": null,
   "id": "a531eab1-9cc4-4630-a2ef-b67289a37ee2",
   "metadata": {},
   "outputs": [],
   "source": [
    "%matplotlib widget"
   ]
  },
  {
   "cell_type": "code",
   "execution_count": null,
   "id": "897551de-88fb-4f57-86dd-f241ef75aded",
   "metadata": {},
   "outputs": [],
   "source": [
    "# Compute autocorrelation\n",
    "importlib.reload(Aut)\n",
    "d0=4\n",
    "n=1\n",
    "x= copy.deepcopy(MegaData_filled[d0,:L[d0],n])\n",
    "autocorr = np.correlate(x, x, mode='full')\n",
    "norm_cross_corr = Aut.norm_cross_corr(x, x, mod='full')#remove mean and divide by std\n",
    "norm_cross_corr_zer = Aut.norm_cross_corr(x, x, mod='full',zeros=1)#remove mean and divide by std\n",
    "autocorr_s,normfac =Aut.autocorrelation_s(x)#remove mean and divide by std ony for nonzero values\n",
    "x[x==0]= np.nan\n",
    "autocorrnan_corr,lagsnanco2 = Aut.nan_correlate2(x, x, mode='full')# take care of invalid values and the main function for thesis plots\n",
    "# Center the result\n",
    "lags = np.zeros(2*len(x)-1)\n",
    "lags[:len(x)] = -MegaData0[d0,:L[d0],12][::-1]+MegaData0[d0,0,12]\n",
    "lags[len(x):] = MegaData0[d0,1:L[d0],12]- MegaData0[d0,0,12]\n"
   ]
  },
  {
   "cell_type": "code",
   "execution_count": null,
   "id": "868f229e-bd74-49be-b386-95723fe8a6b0",
   "metadata": {},
   "outputs": [],
   "source": [
    "AllF.plot_autocorr(lags, autocorr/np.max(autocorr),titre='numpy correlate')\n",
    "AllF.plot_autocorr(lags, norm_cross_corr,titre='normalized signal')\n",
    "AllF.plot_autocorr(lags, norm_cross_corr_zer,titre='normalized signal_nonzero')\n",
    "AllF.plot_autocorr(lags, autocorrnan_corr  ,titre='nancorr_2')\n",
    "AllF.plot_autocorr(lags, autocorr_s/autocorr_s[len(x)-1]  ,titre='nancorr_s')"
   ]
  },
  {
   "cell_type": "code",
   "execution_count": null,
   "id": "06d2ccb8-1826-43cd-8693-8b6dfc9016d6",
   "metadata": {
    "scrolled": true
   },
   "outputs": [],
   "source": [
    "#plot multiple correlations on top of each other\n",
    "plt.figure(figsize=(10,4))\n",
    "plt.stem(lags,autocorr_s/autocorr_s[len(x)-1],'red')\n",
    "plt.stem(lags, autocorrnan_corr)#, use_line_collection=True)\n",
    "hl=1/np.e\n",
    "plt.axhline(y= hl, color='green', linestyle='--')\n",
    "plt.title(\"Autocorrelation of the Signal\")\n",
    "plt.xlabel(\"Lag\")\n",
    "plt.ylabel(\"Autocorrelation\")\n",
    "print(len(np.nonzero(x)[0])/L[d0])\n",
    "plt.grid()\n",
    "plt.show()"
   ]
  },
  {
   "cell_type": "code",
   "execution_count": null,
   "id": "eaf56d1c-b8dd-4bd4-ab9d-4846966b0412",
   "metadata": {
    "scrolled": true
   },
   "outputs": [],
   "source": [
    "#fit an functions to autocorr\n",
    "CorrFunc = copy.deepcopy(autocorrnan_corr)#which autocorrelation function to fit\n",
    "thresh=100\n",
    "# Generate example autocorrelation data\n",
    "time = lags[len(x)-1:]\n",
    "#valid= np.nonzero(~np.isnan(CorrFunc[len(x)-1:]))[0]\n",
    "#if you want to fit oly to the beginning\n",
    "valid0= np.nonzero(~np.isnan(CorrFunc[len(x)-1:]))[0]\n",
    "valid = [i for i in valid0 if time[i] < thresh]\n",
    "valid = np.array(valid)\n",
    "time=time[:int(np.max(valid))+1]\n",
    "# Fit different functions to the autocorrelation\n",
    "popt, pcov = curve_fit(Aut.exponential_decay, time[valid], CorrFunc[len(x)-1+valid], p0=[1, 20])  # Initial guess for A and tau_0\n",
    "fitted_A, fitted_tau_0 = popt\n",
    "popt2, pcov = curve_fit(Aut.exponential1_decay, time[valid], CorrFunc[len(x)-1+valid], p0=[20])  # Initial guess for tau_0\n",
    "popt_gauss, pcov5 = curve_fit(Aut.gaussian_decay, time[valid], CorrFunc[len(x)-1+valid], p0=[1, 20])\n",
    "gauss1, gauss0 = popt_gauss\n",
    "popt_stretch, pcov3 = curve_fit(Aut.stretched_exponential_decay, time[valid],\n",
    "                                    CorrFunc[len(x)-1+valid], p0=[1, 20, 1],maxfev=5000)\n",
    "se2,se0,se1= popt_stretch\n",
    "\n",
    "popt_power, pcov4 = curve_fit(Aut.power_law_decay, time[valid], CorrFunc[len(x)-1+valid], p0=[1, 1, 1],bounds=([0, 0, 0],                                                                                     [np.inf, np.inf, np.inf]),maxfev=5000)\n",
    "power_law2, power_law0, power_law1= popt_power\n",
    "\n",
    "popt_double, pcov2 = curve_fit(Aut.double_exponential_decay, time[valid], CorrFunc[len(x)-1+valid], p0=[1, 20, 1, 1],maxfev=5000)\n",
    "de2,de0,de3,de10= popt_double\n",
    "\n",
    "\n",
    "print(f\"Fitted Amplitude (A): {fitted_A:.3f}\")\n",
    "print(f\"Fitted Time Constant (tau_0): {fitted_tau_0:.3f}\")\n",
    "\n"
   ]
  },
  {
   "cell_type": "code",
   "execution_count": null,
   "id": "f15a53a0-80e3-46d1-998b-ef18914e88c1",
   "metadata": {},
   "outputs": [],
   "source": [
    "# Plot the results\n",
    "fs=15\n",
    "lwidth = 4\n",
    "al=0.8\n",
    "fig = plt.figure(figsize=(12,6))\n",
    "plt.scatter(time[valid], CorrFunc[len(x)-1+valid], label=\"Autocorrelation\", color=\"blue\",s=100,marker='*')\n",
    "plt.plot(time, Aut.exponential_decay(time, *popt), label=f\"Exp,τ:{fitted_tau_0:.2f}\", color=\"red\",lw=lwidth,alpha = al)\n",
    "plt.plot(time, Aut.exponential1_decay(time, *popt2), label=f\"Exp1,τ:{float(popt2):.2f}\", color=\"green\",lw=lwidth,alpha = al)\n",
    "plt.plot(time, Aut.gaussian_decay(time, *popt_gauss), label=f\"Gaussian,τ:{gauss0:.2f}\", color=\"orange\",lw=lwidth,alpha = al)\n",
    "plt.plot(time, Aut.stretched_exponential_decay(time, *popt_stretch), label=f\"stretched,Exp-τ:{se0:.2f}\", color=\"cyan\",lw=lwidth,alpha = al)\n",
    "plt.plot(time, Aut.power_law_decay(time, *popt_power), label=f\"power-law,τ:{power_law0:.2f}\", color=\"magenta\",lw=lwidth,alpha = al)\n",
    "plt.plot(time, np.array(Aut.double_exponential_decay(time, *popt_double)), label=f\"double Exp,τ1:{de0:.2f}-τ2:{de10:.2f}\",\n",
    "         color=\"purple\",lw=lwidth,alpha = al)\n",
    "plt.xlabel(\"Lags[sec]\",fontsize=fs)\n",
    "plt.ylabel(\"Autocorrelation\")\n",
    "plt.xscale('log')   # log x-axis\n",
    "#plt.yscale('log')   # log y-axis\n",
    "plt.xticks(fontsize=fs,rotation=0)\n",
    "hl=1/np.e\n",
    "plt.axhline(y= hl, color='green', linestyle='--')\n",
    "plt.yticks(fontsize=fs)\n",
    "plt.title(\"Different fits\")\n",
    "plt.legend()\n",
    "plt.grid()\n",
    "fig.savefig(f\"{outDir}SingleAutoCorr0_W{d0}_n{n}_exponly100alllog.pdf\", dpi=res, bbox_inches='tight')\n",
    "fig.savefig(f\"{outDir}SingleAutoCorr_W{d0}_n{n}_exponly100allllog.png\", dpi=res, bbox_inches='tight')\n",
    "plt.show()"
   ]
  },
  {
   "cell_type": "markdown",
   "id": "68d8d5a3-13e7-4876-81e9-b59f9cfe46f0",
   "metadata": {},
   "source": [
    "## plot different stretches"
   ]
  },
  {
   "cell_type": "code",
   "execution_count": null,
   "id": "ffc38640-208a-4619-b87e-c63ee75f3b23",
   "metadata": {},
   "outputs": [],
   "source": [
    "importlib.reload(Aut)\n",
    "RR = 100\n",
    "d0=5\n",
    "n=2\n",
    "x= copy.deepcopy(MegaData0[d0,:L[d0],n])\n",
    "start_indices,end_indices = AllF.get_nonzero_start_end_long(x,thresh=3)\n",
    "stretches =[(start_indices[i],end_indices[i]) for i in  range(len(start_indices))]\n",
    "final_matrix,total_weight = Aut.averaging_crosscorr_diff_stretches(x,x,stretches,threshold=RR)\n",
    "lags0 = np.arange(-RR + 1, RR)\n",
    "lags0[:RR] = -MegaData0[d0,:RR,12][::-1]\n",
    "lags0[RR:] = MegaData0[d0,1:RR,12]"
   ]
  },
  {
   "cell_type": "code",
   "execution_count": null,
   "id": "8e4f686b-452a-468b-9923-9c03ddd4ad79",
   "metadata": {},
   "outputs": [],
   "source": [
    "for g in range(final_matrix.shape[0]):\n",
    "    AllF.plot_autocorr(lags0, final_matrix[g,:-1])"
   ]
  },
  {
   "cell_type": "code",
   "execution_count": null,
   "id": "a46295df-4108-43fb-851a-b026f91f376d",
   "metadata": {
    "scrolled": true
   },
   "outputs": [],
   "source": [
    "d=5\n",
    "n=4\n",
    "x= copy.deepcopy(MegaData0[d,:L[d],n])\n",
    "x[x==0]= np.nan\n",
    "autocorrnan2,lagsnan2 = Aut.nan_correlate2(x,x)#correlate(x, x, mode='full', method='auto')\n",
    "lags = np.arange(-len(x) + 1, len(x))\n",
    "\n",
    "lags[:len(x)] = -MegaData0[d0,:L[d0],12][::-1]\n",
    "lags[len(x):] = MegaData0[d0,1:L[d0],12]\n",
    "AllF.plot_autocorr(lagsnan2, autocorrnan2)\n",
    "AllF.plot_autocorr(lags, autocorrnan2)"
   ]
  },
  {
   "cell_type": "markdown",
   "id": "634a7c75-4ae7-4481-a9ee-c38caccb8ef9",
   "metadata": {},
   "source": [
    "# Neurons Autocorrelations"
   ]
  },
  {
   "cell_type": "code",
   "execution_count": null,
   "id": "6ef2c3be-92d7-481e-ab02-baf2371f10f2",
   "metadata": {},
   "outputs": [],
   "source": [
    "numW=7\n",
    "num_neu = 7\n",
    "FullAutocorr = np.zeros((numW,2*np.max(L)-1,num_neu))\n",
    "FullLags = np.zeros((numW,2*np.max(L)-1,num_neu))\n",
    "Time_constant = np.zeros((numW,num_neu,2))#0time,1scale\n",
    "double_exponential = np.zeros((numW,num_neu,4))#0time,1scale\n",
    "stretched_exponential = np.zeros((numW,num_neu,3))#\n",
    "power_law = np.zeros((numW,num_neu,3))#\n",
    "gaussian = np.zeros((numW,num_neu,2))#\n",
    "threshTimes = np.zeros((numW,num_neu))#"
   ]
  },
  {
   "cell_type": "markdown",
   "id": "88caa19a-256b-495c-a0d6-ab84f69484e4",
   "metadata": {},
   "source": [
    "## Try autocorrelation on different versions of the data (smoothed, gap-filled, interpolated, ...)\n",
    "### the last one, raw data, is the one used for plots mostly"
   ]
  },
  {
   "cell_type": "code",
   "execution_count": null,
   "id": "b1fe7925-c7fe-418a-ba40-2adc933e27a2",
   "metadata": {
    "scrolled": true
   },
   "outputs": [],
   "source": [
    "importlib.reload(Aut)\n",
    "lim=100\n",
    "# compute autocorr and time constants for interpolated,raw, and gap-filled dataset\n",
    "FullLags,FullAutocorr,Time_constant,exp1,gaussian,threshTimes = Aut.get_time_scale(MegaData_interp[:numW,:,:7],L,MegaData0[:numW,:,12])\n",
    "FullLags_0,FullAutocorr_0,Time_constant_0,exp1_0,gaussian_0,threshTimes_0 = Aut.get_time_scale(MegaData0[:numW,:,:7],L,MegaData0[:numW,:,12])\n",
    "FullLags_f,FullAutocorr_f,Time_constant_f,exp1_f,gaussian_f,threshTimes_f = Aut.get_time_scale(MegaData_filled[:numW,:,:7],L,MegaData0[:numW,:,12])\n",
    "#compute time constants for different fitting curves on raw data's autocorrelation, compute fits for first lim seconds\n",
    "FullLags_a,FullAutocorr_a,Time_constant_a,exp1_a,gaussian_a,stretched_exponential_a,power_law_a,threshTimes_a = Aut.get_time_scale(MegaData0[:numW,:,:7],\n",
    "                                            L,MegaData0[:numW,:,12],allfit=True,thresh=lim)"
   ]
  },
  {
   "cell_type": "code",
   "execution_count": null,
   "id": "d2885ad2-0789-4405-925e-b9c61e386442",
   "metadata": {
    "scrolled": true
   },
   "outputs": [],
   "source": [
    "d0=5# number of worm\n",
    "n0=4#number of neuron\n",
    "fig = Aut.plot_autocorr(FullLags[d0,:2*L[d0],n0], FullAutocorr[d0,:2*L[d0],n0])\n",
    "fig = Aut.plot_autocorr(FullLags_a[d0,:2*L[d0],n0], FullAutocorr_a[d0,:2*L[d0],n0])"
   ]
  },
  {
   "cell_type": "markdown",
   "id": "88a55923-374d-4550-be81-86a1289815b0",
   "metadata": {},
   "source": [
    "## plot AutoCorr with exponential fit"
   ]
  },
  {
   "cell_type": "code",
   "execution_count": null,
   "id": "b1faacfd-5262-4d96-917c-b228cb6810f7",
   "metadata": {},
   "outputs": [],
   "source": [
    "WormLabel = ['W0','W1','W2','W3','W4','W5','W6']\n",
    "Neur_lab = [\"RIAL\",\"RIAR\",\"RIML\",\"RIMR\",\"RIBL\",\"RIBR\",'Sens.']"
   ]
  },
  {
   "cell_type": "code",
   "execution_count": null,
   "id": "fe93c9a9-b6de-4352-915e-eb5ea69be71a",
   "metadata": {
    "scrolled": true
   },
   "outputs": [],
   "source": [
    "n,d = 4,3\n",
    "plt.figure(figsize=(10,4))\n",
    "temp = FullLags[d,L[d]:2*L[d]-1,n]\n",
    "autocorr = FullAutocorr[d,L[d]:2*L[d]-1,n]\n",
    "popt2 = Time_constant_a[d,n,1], Time_constant_a[d,n,0] \n",
    "plt.scatter(temp, autocorr, label=\"Autocorrelation (data)\", color=\"blue\")\n",
    "plt.plot(temp, Aut.exponential_decay(temp, *popt2), label=\"Fitted Exponential\", color=\"red\")\n",
    "plt.xlabel(\"Lag\")\n",
    "plt.ylabel(\"Autocorrelation\")\n",
    "plt.title(\"Exponential Fit to Autocorrelation\")\n",
    "hl=1/np.e\n",
    "plt.axhline(y= hl, color='green', linestyle='--')#, label='y = 1.96')\n",
    "plt.legend()\n",
    "plt.grid()\n",
    "plt.show()"
   ]
  },
  {
   "cell_type": "code",
   "execution_count": null,
   "id": "64ceabe8-47ba-4b31-b0e8-c0d5bea82433",
   "metadata": {},
   "outputs": [],
   "source": [
    "n,d = 4,5\n",
    "fig = plt.figure(figsize=(10,4))\n",
    "temp = FullLags[d,L[d]:2*L[d]-1,n]\n",
    "autocorr = FullAutocorr[d,L[d]:2*L[d]-1,n]\n",
    "popt = exp1_a[d,n], \n",
    "plt.scatter(temp, autocorr, label=\"Autocorrelation (data)\", color=\"blue\")\n",
    "plt.plot(temp, Aut.exponential1_decay(temp, *popt), label=\"Fitted Exponential\", color=\"red\")\n",
    "plt.xlabel(\"Lag\")\n",
    "plt.ylabel(\"Autocorrelation\")\n",
    "plt.title(\"Exponential Fit to Autocorrelation\")\n",
    "hl=1/np.e\n",
    "plt.axhline(y= hl, color='green', linestyle='--')#, label='y = 1.96')\n",
    "plt.legend()\n",
    "plt.grid()\n",
    "plt.show()"
   ]
  },
  {
   "cell_type": "code",
   "execution_count": null,
   "id": "cb8264fc-4a58-49b5-99da-9812de8e1639",
   "metadata": {},
   "outputs": [],
   "source": [
    "exp1_a[2,2:6]= np.nan"
   ]
  },
  {
   "cell_type": "code",
   "execution_count": null,
   "id": "e1d946ce-7bee-4db1-bf1b-4d4fb3e6ee91",
   "metadata": {},
   "outputs": [],
   "source": [
    "lim =100\n",
    "fig = Aut.plot_parameters_bar(threshTimes_a,Neur_lab, paramName=f'τ - thresh-{lim}mean',fs = 20)\n",
    "fig.savefig(f\"{outDir}ave_tau_thresh_bar_mean{lim}.pdf\", dpi=res, bbox_inches='tight')\n",
    "fig.savefig(f\"{outDir}ave_tau_thresh_bar_mean{lim}.png\", dpi=res, bbox_inches='tight')\n",
    "fig = Aut.plot_parameters_bar(threshTimes_a,Neur_lab, paramName=f'τ - thresh-{lim}med',fs = 20,median=1)\n",
    "fig.savefig(f\"{outDir}ave_tau_thresh_bar_med{lim}.pdf\", dpi=res, bbox_inches='tight')\n",
    "fig.savefig(f\"{outDir}ave_tau_thresh_bar_med{lim}.png\", dpi=res, bbox_inches='tight')"
   ]
  },
  {
   "cell_type": "code",
   "execution_count": null,
   "id": "70d20a88-f236-4596-93f8-5d2b7e7465fc",
   "metadata": {
    "scrolled": true
   },
   "outputs": [],
   "source": [
    "fig = Aut.plot_parameters_bar(exp1_a,Neur_lab, paramName=f'τ - exp1-{lim}mean',fs = 20)\n",
    "fig.savefig(f\"{outDir}ave_tau_e1_bar_mean{lim}.pdf\", dpi=res, bbox_inches='tight')\n",
    "fig.savefig(f\"{outDir}ave_tau_e1_bar_mean{lim}.png\", dpi=res, bbox_inches='tight')\n",
    "fig = Aut.plot_parameters_bar(exp1_a,Neur_lab, paramName=f'τ - exp1-{lim}med',fs = 20,median=1)\n",
    "fig.savefig(f\"{outDir}ave_tau_e1_bar_med{lim}.pdf\", dpi=res, bbox_inches='tight')\n",
    "fig.savefig(f\"{outDir}ave_tau_e1_bar_med{lim}.png\", dpi=res, bbox_inches='tight')"
   ]
  },
  {
   "cell_type": "code",
   "execution_count": null,
   "id": "e6df7b38-9284-4190-bce4-1e339ee6c6bc",
   "metadata": {},
   "outputs": [],
   "source": [
    "FullLags_a.shape"
   ]
  },
  {
   "cell_type": "code",
   "execution_count": null,
   "id": "4ac1e3b6-f7a4-4f42-a732-91f6d7fa9d3c",
   "metadata": {},
   "outputs": [],
   "source": [
    "importlib.reload(Aut)\n",
    "\n",
    "fig = Aut.plot_AllneuronsFit(FullLags_a,FullAutocorr_a,Neur_lab,Time_constant,L,exp=0,limit=lim)\n",
    "fig.savefig(f\"{outDir}all_neuronsFit_exp{lim}.pdf\", dpi=res, bbox_inches='tight')\n",
    "fig.savefig(f\"{outDir}all_neuronsFit_exp{lim}.png\", dpi=res, bbox_inches='tight')\n",
    "fig = Aut.plot_AllneuronsFit(FullLags_a,FullAutocorr_a,Neur_lab,exp1_a,L,exp=1,limit=lim)\n",
    "fig.savefig(f\"{outDir}all_neuronsFit_exp1{lim}.pdf\", dpi=res, bbox_inches='tight')\n",
    "fig.savefig(f\"{outDir}all_neuronsFit_exp1{lim}.png\", dpi=res, bbox_inches='tight')\n",
    "fig = Aut.plot_AllneuronsFit_thresh(FullLags_a,FullAutocorr_a,Neur_lab,exp1_a,threshTimes_a,L,exp=1,limit=lim)\n",
    "fig.savefig(f\"{outDir}all_neuronsFit_thresh{lim}.pdf\", dpi=res, bbox_inches='tight')\n",
    "fig.savefig(f\"{outDir}all_neuronsFit_thresh{lim}.png\", dpi=res, bbox_inches='tight')"
   ]
  },
  {
   "cell_type": "code",
   "execution_count": null,
   "id": "7b678292-d58c-4cfe-a004-c1a215c3aa28",
   "metadata": {
    "scrolled": true
   },
   "outputs": [],
   "source": [
    "# Adjust figure size and create 7x7 subplots\n",
    "fig, axes = plt.subplots(7, 7, figsize=(20, 10), sharex=True, sharey=True)\n",
    "fig.subplots_adjust(hspace=0.4, wspace=0.4)\n",
    "Neur_lab = [\"RIAL\",\"RIAR\",\"RIML\",\"RIMR\",\"RIBL\",\"RIBR\",'Sensory']\n",
    "# Loop over all combinations of n and d\n",
    "for n in range(7):\n",
    "    for d in range(7):\n",
    "        ax = axes[d, n]  # Access the subplot\n",
    "        \n",
    "        # Extract data for current n and d\n",
    "        temp = FullLags[d, L[d]:2*L[d]-1, n]\n",
    "        autocorr = FullAutocorr[d, L[d]:2*L[d]-1, n]\n",
    "        popt = exp1[d,n],\n",
    "        \n",
    "        # Plot scatter and fitted curve\n",
    "        ax.scatter(temp, autocorr, label=\"Data\", color=\"blue\", alpha=0.6)\n",
    "        ax.plot(temp, Aut.exponential1_decay(temp, *popt), label=\"Fit\", color=\"red\", alpha=0.8,lw=4)\n",
    "        hl=1/np.e\n",
    "        ax.axhline(y= hl, color='green', linestyle='--')\n",
    "        # Add titles and grid\n",
    "        ax.set_title(Neur_lab[n]+f\", W={d}\", fontsize=15)\n",
    "        ax.grid(alpha=0.5)\n",
    "        ax.set_ylim(-0.1, 1)\n",
    "        ax.set_xlim(0,right= 300)\n",
    "        tau_value = exp1[d, n]\n",
    "        ax.text(0.3, 0.7, f\"τ={tau_value:.2f}\", transform=ax.transAxes, fontsize=10, color=\"black\")\n",
    "        # Remove ticks for better readability\n",
    "        ax.tick_params(axis='both', which='major', labelsize=15)\n",
    "\n",
    "# Set shared labels\n",
    "fig.text(0.5, 0.04, 'Lag', ha='center', fontsize=20)\n",
    "fig.text(0.04, 0.5, 'Autocorrelation', va='center', rotation='vertical', fontsize=20)\n",
    "fig.savefig(f\"{outDir}all_neuronsFit_interpolated_exp1.pdf\", dpi=res, bbox_inches='tight')\n",
    "fig.savefig(f\"{outDir}all_neuronsFit_interpolated_exp1.png\", dpi=res, bbox_inches='tight')\n",
    "# Show the p"
   ]
  },
  {
   "cell_type": "markdown",
   "id": "fcd907bc-081b-49de-98b9-e96826360e86",
   "metadata": {},
   "source": [
    "# Test time scales of neurites Only"
   ]
  },
  {
   "cell_type": "code",
   "execution_count": null,
   "id": "d346027e-6aaf-467a-a71b-08de437bc8cd",
   "metadata": {},
   "outputs": [],
   "source": [
    "n_tit = [\"sensory\",\"nrDL\",\"loopL\",\"nrDR\",\"loopR\",\"nrVL\",\"nrVR\"]\n",
    "neu = [6,7,8,27,28,39,40]#[41,42,43,45,46,47,48]\n",
    "beh_lab = [str(i) for i in neu]"
   ]
  },
  {
   "cell_type": "code",
   "execution_count": null,
   "id": "f42cb746-3a48-4283-b35a-2803501be1a4",
   "metadata": {},
   "outputs": [],
   "source": [
    "importlib.reload(Aut)\n",
    "FullLags_ax0,FullAutocorr_ax0,Time_constant_ax0,exp1_ax0,gaussian_ax0,threshTimes_ax0  = Aut.get_time_scale(MegaData0[:numW,:,neu],\n",
    "                                                                                            L,MegaData0[:numW,:,12],neurite=True)\n",
    "FullLags_ax,FullAutocorr_ax,Time_constant_ax,exp1_ax,gaussian_ax,threshTimes_ax  = Aut.get_time_scale(MegaData_interp[:numW,:,neu],\n",
    "                                                                                        L,MegaData0[:numW,:,12],neurite=True)"
   ]
  },
  {
   "cell_type": "code",
   "execution_count": null,
   "id": "c52a2543-b5b2-4d4a-a49a-7a8ee641c6a0",
   "metadata": {
    "scrolled": true
   },
   "outputs": [],
   "source": [
    "importlib.reload(Aut)\n",
    "fig1 = Aut.plot_parameters_heat(exp1_ax0,n_tit, WormLabel, paramName='τ Value',fs = 15,titre = 'τ - exp1')\n",
    "fig2 = Aut.plot_parameters_heat(exp1_ax,n_tit, WormLabel, paramName='τ Value',fs = 15,titre = 'τ - exp1-intp')\n",
    "fig3 = Aut.plot_parameters_heat(Time_constant_ax0[:,:,0],n_tit, WormLabel, paramName='τ- gf ',fs = 15,titre = 'τ - exp ')\n"
   ]
  },
  {
   "cell_type": "code",
   "execution_count": null,
   "id": "94d4155c-e956-4fe5-913d-5a5ae879348e",
   "metadata": {
    "scrolled": true
   },
   "outputs": [],
   "source": [
    "worms_to_select = [0,1,2,3,5] \n",
    "WormLabel_sub = [WormLabel[i] for i in worms_to_select]\n",
    "fig = Aut.plot_parameters_heat(exp1_ax0[worms_to_select,:],n_tit, WormLabel_sub, paramName='τ Value',fs = 15,titre = 'τ - exp1-ns')\n",
    "fig = Aut.plot_parameters_heat(exp1_ax[worms_to_select,:],n_tit, WormLabel_sub, paramName='τ Value',fs = 15,titre = 'τ - exp1-intp')\n",
    "fig = Aut.plot_parameters_heat(Time_constant_ax0[worms_to_select,:,0],n_tit, WormLabel_sub, paramName='τ ',fs = 15,titre = 'τ - exp - ns')\n"
   ]
  },
  {
   "cell_type": "code",
   "execution_count": null,
   "id": "1905594d-28c1-47b9-bd71-1ef482d6456f",
   "metadata": {
    "scrolled": true
   },
   "outputs": [],
   "source": [
    "fig = Aut.plot_AllneuronsFit(FullLags_ax0,FullAutocorr_ax0,n_tit,exp1_ax0,L,exp=1)\n",
    "fig.savefig(f\"{outDir}all_neuritesFit_exp1.pdf\", dpi=res, bbox_inches='tight')\n",
    "fig.savefig(f\"{outDir}all_neuritesFit_exp1.png\", dpi=res, bbox_inches='tight')\n",
    "fig = Aut.plot_AllneuronsFit_thresh(FullLags_ax0,FullAutocorr_ax0,n_tit,exp1_ax0,threshTimes_ax0,L,exp=1)\n",
    "fig.savefig(f\"{outDir}all_neuritesFit_exp1_thresh.pdf\", dpi=res, bbox_inches='tight')\n",
    "fig.savefig(f\"{outDir}all_neuritesFit_exp1_thresh.png\", dpi=res, bbox_inches='tight')"
   ]
  },
  {
   "cell_type": "markdown",
   "id": "292d9cb3-cec1-4aa9-8868-14639ec9c661",
   "metadata": {},
   "source": [
    "# Test for behavior"
   ]
  },
  {
   "cell_type": "code",
   "execution_count": null,
   "id": "d0fe3013-6590-4acc-b039-eec74d010ece",
   "metadata": {},
   "outputs": [],
   "source": [
    "neu = [15,16,38,46,26]\n",
    "beh_lab = [str(i) for i in neu]"
   ]
  },
  {
   "cell_type": "code",
   "execution_count": null,
   "id": "6ccbb6e1-fe2c-4b91-9388-7845632ae910",
   "metadata": {},
   "outputs": [],
   "source": [
    "importlib.reload(Aut)\n",
    "lim=100\n",
    "FullLags_b0,FullAutocorr_b0,Time_constant_b0,exp1_b0,gaussian_bf,threshTimes_b0 = Aut.get_time_scale(MegaData0[1:7,:,neu],L[1:],           \n",
    "                                                                                MegaData0[1:7,:,12])\n",
    "FullLags_bf,FullAutocorr_bf,Time_constant_bf,exp1_bf,gaussian_bf,threshTimes_bf = Aut.get_time_scale(MegaData_filled[1:7,:,neu],L[1:],\n",
    "                                                                                MegaData0[1:7,:,12])\n",
    "FullLagsb_inter,FullAutocorrb_inter,Time_constantb_inter,exp1b_inter,gaussianb_inter,stretched_exponentialb_inter,power_lawb_inter,threshTimesb_inter = Aut.get_time_scale(MegaData_interp[1:7,:,neu],\n",
    "                                                                                    L[1:],MegaData0[1:7,:,12],allfit=True,thresh=lim)\n",
    "FullLagsb_lim,FullAutocorrb_lim,Time_constantb_lim,exp1b_lim,gaussianb_lim,stretched_exponentialb_lim,power_lawb_lim,threshTimesb_lim = Aut.get_time_scale(MegaData0[1:7,:,neu],\n",
    "                                                                                                    L[1:],MegaData0[1:7,:,12],allfit=True,thresh=lim)"
   ]
  },
  {
   "cell_type": "code",
   "execution_count": null,
   "id": "b086b7ab-fb97-499d-82fb-c8fac5c85593",
   "metadata": {
    "scrolled": true
   },
   "outputs": [],
   "source": [
    "importlib.reload(Aut)\n",
    "WormLabel = ['W0','W1','W2','W3','W4','W5','W6']\n",
    "fig = Aut.plot_parameters_heat(exp1_b0,beh_lab, WormLabel[1:], paramName='τ Value',fs = 20,titre = 'τ - exp1')\n",
    "fig = Aut.plot_parameters_heat(Time_constant_b0[:,:,0],beh_lab, WormLabel[1:], paramName='τ Value',fs = 20,titre = 'τ - exp')\n",
    "\n"
   ]
  },
  {
   "cell_type": "code",
   "execution_count": null,
   "id": "2f8c17f7-23ec-4b83-a6e3-2b5f2ebd9315",
   "metadata": {
    "scrolled": true
   },
   "outputs": [],
   "source": [
    "fig = Aut.plot_parameters_bar(exp1_b0,['speed','velocity','head angle','center angle','head curvature'], \n",
    "                              paramName='τ Value-exp1',fs = 20,r=30)\n",
    "fig.savefig(f\"{outDir}tau_behaviors_exp1.pdf\", dpi=res, bbox_inches='tight')\n",
    "fig.savefig(f\"{outDir}tau_behaviors_exp1.png\", dpi=res, bbox_inches='tight')\n",
    "fig = Aut.plot_parameters_bar(threshTimes_b0,['speed','velocity','head angle','center angle','head curvature'], \n",
    "                              paramName='τ Value-thresh',fs = 20,r=30)\n",
    "fig.savefig(f\"{outDir}tau_behaviors_thresh.pdf\", dpi=res, bbox_inches='tight')\n",
    "fig.savefig(f\"{outDir}tau_behaviors_thresh.png\", dpi=res, bbox_inches='tight')"
   ]
  },
  {
   "cell_type": "code",
   "execution_count": null,
   "id": "37a35598-d330-45e8-88b6-03a8dbc51875",
   "metadata": {
    "scrolled": true
   },
   "outputs": [],
   "source": [
    "importlib.reload(Aut)\n",
    "WormLabel = ['W0','W1','W2','W3','W4','W5','W6']\n",
    "\n",
    "fig =Aut.plot_parameters_heat(exp1_bf,beh_lab, WormLabel[1:], paramName='τ Value',fs = 20,titre = 'τ - exp1, gapfilled')\n",
    "fig = Aut.plot_parameters_heat(Time_constant_bf[:,:,0],beh_lab, WormLabel[1:], paramName='τ ',fs = 20,titre = 'τ - exp, gapfilled')\n",
    "\n"
   ]
  },
  {
   "cell_type": "code",
   "execution_count": null,
   "id": "efd6264d-bfe0-47c4-9c0e-a269f93813f4",
   "metadata": {},
   "outputs": [],
   "source": [
    "# Adjust figure size and create 7x7 subplots\n",
    "fig, axes = plt.subplots(6, 5, figsize=(20, 10), sharex=True, sharey=True)\n",
    "fig.subplots_adjust(hspace=0.4, wspace=0.4)\n",
    "Neur_lab = [\"RIAL\",\"RIAR\",\"RIML\",\"RIMR\",\"RIBL\",\"RIBR\",'Sensory']\n",
    "# Loop over all combinations of n and d\n",
    "for n in range(5):\n",
    "    for d in range(6):\n",
    "        ax = axes[d, n]  # Access the subplot\n",
    "        d_real = d+1\n",
    "        # Extract data for current n and d\n",
    "        temp = FullLags_b0[d, L[d_real]-1:2*L[d_real]-1, n]\n",
    "        autocorr = FullAutocorr_b0[d, L[d_real]-1:2*L[d_real]-1, n]\n",
    "        popt = Time_constant_b0[d, n, 1], Time_constant_b0[d, n, 0]#exp1_ax0[d,n],\n",
    "        popt1 = exp1_b0[d,n],\n",
    "        # Plot scatter and fitted curve\n",
    "        ax.scatter(temp, autocorr, label=\"Data\", color=\"blue\", alpha=0.6)\n",
    "        ax.plot(temp, Aut.exponential_decay(temp, *popt), label=\"Fit\", color=\"red\", alpha=0.8,lw=4)\n",
    "        ax.plot(temp, Aut.exponential1_decay(temp, *popt1), label=\"Fit\", color=\"green\", alpha=0.8,lw=4)\n",
    "        hl=1/np.e\n",
    "        ax.axhline(y= hl, color='green', linestyle='--')\n",
    "        # Add titles and grid\n",
    "        ne= neu[n]\n",
    "        ax.set_title(f\"b={ne}, W={d_real}\", fontsize=15)\n",
    "        ax.grid(alpha=0.5)\n",
    "        ax.set_ylim(-0.1, 1)\n",
    "        #ax.set_xlim(-2,50)\n",
    "        ax.set_xscale('log') \n",
    "        tau_value = Time_constant_b0[d, n, 0]#exp1_ax0[d, n]\n",
    "        ax.text(0.3, 0.7, f\"τ={tau_value:.2f}\", transform=ax.transAxes, fontsize=10, color=\"black\")\n",
    "        # Remove ticks for better readability\n",
    "        ax.tick_params(axis='both', which='major', labelsize=15)\n",
    "\n",
    "# Set shared labels\n",
    "fig.text(0.5, 0.04, 'Lag', ha='center', fontsize=20)\n",
    "fig.text(0.04, 0.5, 'Autocorrelation', va='center', rotation='vertical', fontsize=20)\n",
    "fig.savefig(f\"{outDir}All_behaviorsFit_exp_logs.pdf\", dpi=res, bbox_inches='tight')\n",
    "fig.savefig(f\"{outDir}All_behaviorsFit_exp_logs.png\", dpi=res, bbox_inches='tight')\n",
    "plt.show()"
   ]
  },
  {
   "cell_type": "markdown",
   "id": "5873c045-fd82-4a88-8634-6e4ee64f7d05",
   "metadata": {},
   "source": [
    "# Time scale of all neurons and neurites"
   ]
  },
  {
   "cell_type": "code",
   "execution_count": null,
   "id": "a7b8025a-d4fd-4451-9fdd-f3729dac8020",
   "metadata": {},
   "outputs": [],
   "source": [
    "numW=7\n",
    "num_neu = 13\n",
    "FullAutocorr = np.zeros((numW,2*np.max(L)-1,num_neu))\n",
    "FullLags = np.zeros((numW,2*np.max(L)-1,num_neu))\n",
    "Time_constant = np.zeros((numW,num_neu,2))#0time,1scale\n",
    "double_exponential = np.zeros((numW,num_neu,4))#0time,1scale\n",
    "stretched_exponential = np.zeros((numW,num_neu,3))#\n",
    "power_law = np.zeros((numW,num_neu,3))#\n",
    "gaussian = np.zeros((numW,num_neu,2))#"
   ]
  },
  {
   "cell_type": "code",
   "execution_count": null,
   "id": "bd10a263-5a46-458b-b9ae-f6d4ef876f7f",
   "metadata": {},
   "outputs": [],
   "source": [
    "n_tit = [\"RIAL\",\"RIAR\",\"RIML\",\"RIMR\",\"RIBL\",\"RIBR\",\"Sens.\",\"nrDL\",\"loopL\",\"nrDR\",\"loopR\",\"nrVL\",\"nrVR\"]\n",
    "neu = [0,1,2,3,4,5,6,7,8,27,28,39,40]#[41,42,43,45,46,47,48]\n",
    "beh_lab = [str(i) for i in neu]"
   ]
  },
  {
   "cell_type": "code",
   "execution_count": null,
   "id": "16115392-8a7d-4a97-a712-462368882c59",
   "metadata": {},
   "outputs": [],
   "source": [
    "importlib.reload(Aut)\n",
    "lim=300\n",
    "FullLags_All0,FullAutocorr_All0,Time_constant_All0,exp1_All0,gaussian_All0,threshTimes_All0 = Aut.get_time_scale(MegaData0[:numW,:,neu],L,\n",
    "                                                                                                MegaData0[:numW,:,12])\n",
    "FullLags_All,FullAutocorr_All,Time_constant_All,exp1_All,gaussian_All,threshTimes_All = Aut.get_time_scale(MegaData_interp[:numW,:,neu],L,\n",
    "                                                                                           MegaData0[:numW,:,12])\n",
    "FullLags_Alllim,FullAutocorr_Alllim,Time_constant_Alllim,exp1_Alllim,gaussian_Alllim,stretched_exponential_Alllim,power_law_Alllim, threshTimes_Alllim = Aut.get_time_scale(MegaData0[:numW,:,neu],L,\n",
    "                                                                                MegaData0[:numW,:,12],allfit=True,thresh=lim)"
   ]
  },
  {
   "cell_type": "code",
   "execution_count": null,
   "id": "e2bd6611-948a-4646-abec-c2430df3610f",
   "metadata": {},
   "outputs": [],
   "source": [
    "worms_to_select = [0,1,3,4,5,6] \n",
    "WormLabel_sub = [WormLabel[i] for i in worms_to_select]\n"
   ]
  },
  {
   "cell_type": "code",
   "execution_count": null,
   "id": "46ef54dd-550d-4687-9482-f40b51e895fb",
   "metadata": {},
   "outputs": [],
   "source": [
    "importlib.reload(Aut)\n",
    "fig = Aut.plot_parameters_bar(exp1_All0[worms_to_select,:],n_tit, paramName=f'τ exp1-ns{lim}',fs = 15,r=45)\n",
    "fig.savefig(f\"{outDir}tau_AllNeurons_exp1{lim}.pdf\", dpi=res, bbox_inches='tight')\n",
    "fig.savefig(f\"{outDir}tau_AllNeurons_exp1{lim}.png\", dpi=res, bbox_inches='tight')\n",
    "fig = Aut.plot_parameters_bar(threshTimes_All0[worms_to_select,:],n_tit, paramName=f'τ thresh-ns{lim}',fs = 15,r=45)\n",
    "fig.savefig(f\"{outDir}tau_AllNeurons_thresh{lim}.pdf\", dpi=res, bbox_inches='tight')\n",
    "fig.savefig(f\"{outDir}tau_AllNeurons_thresh{lim}.png\", dpi=res, bbox_inches='tight')\n",
    "fig = Aut.plot_parameters_bar(Time_constant_All0[worms_to_select,:,0],n_tit, paramName=f'τ exp-ns{lim}',fs = 15,r=45)\n",
    "fig.savefig(f\"{outDir}tau_AllNeurons_exp{lim}.pdf\", dpi=res, bbox_inches='tight')\n",
    "fig.savefig(f\"{outDir}tau_AllNeurons_exp{lim}.png\", dpi=res, bbox_inches='tight')"
   ]
  },
  {
   "cell_type": "code",
   "execution_count": null,
   "id": "e6ccf4ff-0778-4a58-afbc-eff677702d24",
   "metadata": {},
   "outputs": [],
   "source": [
    "fig = Aut.plot_AllneuronsFit_thresh(FullLags_All0,FullAutocorr_All0,n_tit,exp1_All0,threshTimes_All0,L,exp=1,limit=lim)\n",
    "fig.savefig(f\"{outDir}all_AllNeuronsFit_thresh{lim}.pdf\", dpi=res, bbox_inches='tight')\n",
    "fig.savefig(f\"{outDir}all_AllNeuronsFit_thresh{lim}.png\", dpi=res, bbox_inches='tight')"
   ]
  },
  {
   "cell_type": "code",
   "execution_count": null,
   "id": "50fa5422-389b-4471-b0c2-364b7840046a",
   "metadata": {},
   "outputs": [],
   "source": []
  }
 ],
 "metadata": {
  "kernelspec": {
   "display_name": "Python 3 (ipykernel)",
   "language": "python",
   "name": "python3"
  },
  "language_info": {
   "codemirror_mode": {
    "name": "ipython",
    "version": 3
   },
   "file_extension": ".py",
   "mimetype": "text/x-python",
   "name": "python",
   "nbconvert_exporter": "python",
   "pygments_lexer": "ipython3",
   "version": "3.8.18"
  }
 },
 "nbformat": 4,
 "nbformat_minor": 5
}
