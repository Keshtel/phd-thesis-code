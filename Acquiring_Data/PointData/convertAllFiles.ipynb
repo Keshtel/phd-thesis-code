{
 "cells": [
  {
   "cell_type": "code",
   "execution_count": 1,
   "metadata": {},
   "outputs": [],
   "source": [
    "\n",
    "from os import listdir\n",
    "import numpy as np\n",
    "import matplotlib.pyplot as plt\n",
    "import h5py\n",
    "from matplotlib import cm\n",
    "from matplotlib.colors import Normalize \n",
    "from scipy.interpolate import interpn\n",
    "import os\n"
   ]
  },
  {
   "cell_type": "code",
   "execution_count": 2,
   "metadata": {},
   "outputs": [],
   "source": [
    "mypath = '/mnt/hdd/Mahsa/movies/Picking_your_brain/ananya_worms/Recording2023_07_20/results/temp' "
   ]
  },
  {
   "cell_type": "code",
   "execution_count": 7,
   "metadata": {},
   "outputs": [
    {
     "name": "stdout",
     "output_type": "stream",
     "text": [
      "Dataset name changed successfully.\n"
     ]
    }
   ],
   "source": [
    "onlyfiles = [f for f in listdir(mypath)  if \".h5\" in f]\n",
    "for f in onlyfiles:\n",
    "    h5fileAddress = os.path.join(mypath,f)\n",
    "    h5 = h5py.File(h5fileAddress,'r+')\n",
    "    convert_to_mask(h5)\n",
    "    #change_fun(h5)\n",
    "    h5.close()"
   ]
  },
  {
   "cell_type": "code",
   "execution_count": 3,
   "metadata": {},
   "outputs": [],
   "source": [
    "def change_fun(h5):\n",
    "    if 'pointdat' in h5.keys():\n",
    "        del h5['pointdat'] \n",
    "    if 'helper_NN' in h5.keys():    \n",
    "        h5.copy('helper_NN', 'pointdat')"
   ]
  },
  {
   "cell_type": "code",
   "execution_count": 6,
   "metadata": {},
   "outputs": [],
   "source": [
    "def convert_to_mask(h5,neu=25):\n",
    "    h5.attrs['pointdat'] = False #delete this so the gui open the file as new and set the parameters as point file\n",
    "    if 'pointdat' in h5.keys():\n",
    "        # Create a new dataset with the desired name ('pointdat_old')\n",
    "        if 'pointdat_old' in h5.keys():\n",
    "            del h5['pointdat_old']\n",
    "        h5.copy('pointdat', 'pointdat_old')\n",
    "        # Delete the old dataset ('pointdat')\n",
    "        del h5['pointdat']\n",
    "        print(\"Dataset name changed successfully.\")\n",
    "    else:\n",
    "        print(\"Dataset 'pointdat' does not exist in the file.\")\n",
    "    h5.attrs['N_neurons'] = int(neu)"
   ]
  },
  {
   "cell_type": "code",
   "execution_count": 35,
   "metadata": {},
   "outputs": [],
   "source": [
    "def convert_to_points(h5,neu=25):\n",
    "    if 'pointdat' in h5.attrs.keys():\n",
    "        del h5.attrs['pointdat'] #delete this so the gui open the file as new and set the parameters as point file\n",
    "    if 'pointdat_old' in h5.keys():\n",
    "        if 'pointdat' in h5.keys():\n",
    "            del h5['pointdat']\n",
    "        # Create a new dataset with the desired name ('pointdat_old')\n",
    "        h5.copy('pointdat_old', 'pointdat')\n",
    "        # Delete the old dataset ('pointdat')\n",
    "        del h5['pointdat_old']\n",
    "        print(\"Dataset name changed successfully.\")\n",
    "    else:\n",
    "        print(\"Dataset 'pointdat_old' does not exist in the file.\")\n",
    "    h5.attrs['N_neurons'] = int(neu) #set this so the neuron bar shows up"
   ]
  },
  {
   "cell_type": "code",
   "execution_count": 7,
   "metadata": {},
   "outputs": [],
   "source": [
    "GT=[5,10,210,310,410,510]\n",
    "def Accept_frames(h5,GT):\n",
    "    GT0 = h5['pointdat']\n",
    "    prediction = h5['helper_NN']\n",
    "    for i in GT:\n",
    "        GT0[i,:,:] = prediction[i,:,:]\n",
    "    del h5['pointdat'] \n",
    "    h5.create_dataset('pointdat',data=GT0)"
   ]
  },
  {
   "cell_type": "code",
   "execution_count": 37,
   "metadata": {},
   "outputs": [],
   "source": [
    "hf=h5py.File('/mnt/hdd/Mahsa/movies/Picking_your_brain/ananya_worms/Recording2023_07_20/results/July14_121014_1_ctrl.h5','r+')"
   ]
  },
  {
   "cell_type": "code",
   "execution_count": 39,
   "metadata": {},
   "outputs": [],
   "source": [
    "hx=h5py.File('/mnt/hdd/Mahsa/movies/Picking_your_brain/ananya_worms/Recording2023_07_20/results/NewResult_Alice/121014_1_ctrl.h5','r+')"
   ]
  },
  {
   "cell_type": "code",
   "execution_count": 40,
   "metadata": {},
   "outputs": [
    {
     "name": "stdout",
     "output_type": "stream",
     "text": [
      "(1, 224, 160, 32)\n",
      "(1, 224, 160, 32)\n"
     ]
    },
    {
     "data": {
      "text/plain": [
       "<HDF5 dataset \"pointdat\": shape (1582, 26, 3), type \"<f4\">"
      ]
     },
     "execution_count": 40,
     "metadata": {},
     "output_type": "execute_result"
    }
   ],
   "source": [
    "print(np.shape(hx['1/frame']))\n",
    "print(np.shape(hf['1/frame']))\n",
    "hx['pointdat'] "
   ]
  },
  {
   "cell_type": "code",
   "execution_count": 9,
   "metadata": {},
   "outputs": [],
   "source": [
    "Accept_frames(hf,GT)"
   ]
  },
  {
   "cell_type": "code",
   "execution_count": 41,
   "metadata": {},
   "outputs": [
    {
     "data": {
      "text/plain": [
       "<HDF5 dataset \"pointdat\": shape (1582, 26, 3), type \"<f8\">"
      ]
     },
     "execution_count": 41,
     "metadata": {},
     "output_type": "execute_result"
    }
   ],
   "source": [
    "del hf['pointdat'] \n",
    "hf.create_dataset('pointdat',data=hx['helper_NN'] )"
   ]
  },
  {
   "cell_type": "code",
   "execution_count": 42,
   "metadata": {},
   "outputs": [],
   "source": [
    "hf.close()\n",
    "hx.close()"
   ]
  },
  {
   "cell_type": "code",
   "execution_count": null,
   "metadata": {},
   "outputs": [],
   "source": []
  }
 ],
 "metadata": {
  "kernelspec": {
   "display_name": "Python 3 (ipykernel)",
   "language": "python",
   "name": "python3"
  },
  "language_info": {
   "codemirror_mode": {
    "name": "ipython",
    "version": 3
   },
   "file_extension": ".py",
   "mimetype": "text/x-python",
   "name": "python",
   "nbconvert_exporter": "python",
   "pygments_lexer": "ipython3",
   "version": "3.8.18"
  }
 },
 "nbformat": 4,
 "nbformat_minor": 4
}
