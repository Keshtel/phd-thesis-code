{
 "cells": [
  {
   "cell_type": "code",
   "execution_count": 5,
   "id": "43d84883-2d2c-4566-b9a0-a0375ec43b41",
   "metadata": {},
   "outputs": [],
   "source": [
    "import cv2\n",
    "import os\n",
    "from multiprocessing import Pool\n",
    "import subprocess\n",
    "from tqdm import tqdm\n",
    "from PIL import Image, ImageDraw\n",
    "import Matthieus_Functions as MF\n",
    "\n",
    "import numpy as np"
   ]
  },
  {
   "cell_type": "code",
   "execution_count": null,
   "id": "86d81219-89b3-43f4-b85f-a6f0aa961fbd",
   "metadata": {},
   "outputs": [],
   "source": [
    "InputFile = '/mnt/DATA/Mahsa/movies/LongRecordings/2024-09-17/W2tq9262/temp-09172024151650-crop.avi'\n",
    "InFile2 ='/mnt/DATA/Mahsa/movies/LongRecordings/2024-09-17/W2tq9262/MAX_20240917_151717_197__Channel488,525.avi'"
   ]
  },
  {
   "cell_type": "code",
   "execution_count": null,
   "id": "f13535bf-1fc0-4890-9678-dabb19a5ef08",
   "metadata": {},
   "outputs": [],
   "source": [
    "cap = cv2.VideoCapture(InputFile)"
   ]
  },
  {
   "cell_type": "code",
   "execution_count": null,
   "id": "36249ded-9aa2-427b-a8fc-75d5c06d91c6",
   "metadata": {},
   "outputs": [],
   "source": []
  },
  {
   "cell_type": "code",
   "execution_count": null,
   "id": "7dd17f87-f4d2-4b78-8787-63b10508c131",
   "metadata": {},
   "outputs": [],
   "source": []
  },
  {
   "cell_type": "markdown",
   "id": "a74aa50f-8c4d-43be-9e90-3df3143ec1d8",
   "metadata": {},
   "source": [
    "# All Functions"
   ]
  },
  {
   "cell_type": "code",
   "execution_count": 41,
   "id": "aacda98d-4ee2-4421-bf21-c66cb711b10c",
   "metadata": {},
   "outputs": [],
   "source": [
    "def save_frame(video_path, frame_num, result_path):\n",
    "    # Open the video file\n",
    "    cap = cv2.VideoCapture(video_path)\n",
    "\n",
    "    # Check if the video was successfully opened\n",
    "    if not cap.isOpened():\n",
    "        print(f\"Error: Could not open video file {video_path}\")\n",
    "        return\n",
    "\n",
    "    # Create the output directory if it doesn't exist\n",
    "    os.makedirs(os.path.dirname(result_path), exist_ok=True)\n",
    "\n",
    "    # Set the video position to the desired frame number\n",
    "    cap.set(cv2.CAP_PROP_POS_FRAMES, frame_num)\n",
    "\n",
    "    # Read the frame\n",
    "    ret, frame = cap.read()\n",
    "\n",
    "    # If the frame was read successfully, save it\n",
    "    if ret:\n",
    "        cv2.imwrite(result_path, frame)\n",
    "        print(f\"Frame {frame_num} saved successfully at {result_path}\")\n",
    "    else:\n",
    "        print(f\"Error: Could not read frame {frame_num}\")\n",
    "\n",
    "    # Release the video capture object\n",
    "    cap.release()\n",
    "\n",
    "def Add_fr0(image_path,video_path0,output_video_path):\n",
    "    # Load the image to be added as the first frame\n",
    "    image = cv2.imread(image_path)\n",
    "    path = video_path0.split('.')[0]\n",
    "    #output_video_path = path + '_fr0Added.avi'\n",
    "    # Open the original video\n",
    "    cap = cv2.VideoCapture(video_path0)\n",
    "    \n",
    "    # Check if the video opened successfully\n",
    "    if not cap.isOpened():\n",
    "        print(f\"Error: Could not open video file {video_path0}\")\n",
    "        exit()\n",
    "    \n",
    "    # Retrieve original video properties\n",
    "    fps = cap.get(cv2.CAP_PROP_FPS)\n",
    "    frame_width = int(cap.get(cv2.CAP_PROP_FRAME_WIDTH))\n",
    "    frame_height = int(cap.get(cv2.CAP_PROP_FRAME_HEIGHT))\n",
    "    fourcc = int(cap.get(cv2.CAP_PROP_FOURCC))\n",
    "    \n",
    "    \n",
    "    # Create a VideoWriter object to write the new video\n",
    "    out = cv2.VideoWriter(output_video_path, fourcc, fps, (frame_width, frame_height))\n",
    "    \n",
    "    # Write the resized image as the first frame\n",
    "    out.write(image)\n",
    "    \n",
    "    # Append the original video frames\n",
    "    while True:\n",
    "        ret, frame = cap.read()\n",
    "        if not ret:\n",
    "            break\n",
    "        out.write(frame)\n",
    "    \n",
    "    # Release resources\n",
    "    cap.release()\n",
    "    out.release()\n",
    "    \n",
    "    print(f\"New video saved as {output_video_path}\")\n",
    "\n",
    "def Add_frames(image_folder,video_path0,output_video_path):\n",
    "\n",
    "    image_files = sorted([img for img in os.listdir(image_folder) if img.endswith(('.png', '.jpg', '.jpeg'))])\n",
    "    cap = cv2.VideoCapture(video_path0)\n",
    "    \n",
    "    # Check if the video opened successfully\n",
    "    if not cap.isOpened():\n",
    "        print(f\"Error: Could not open video file {video_path0}\")\n",
    "        exit()\n",
    "    \n",
    "    # Retrieve original video properties\n",
    "    fps = cap.get(cv2.CAP_PROP_FPS)\n",
    "    frame_width = int(cap.get(cv2.CAP_PROP_FRAME_WIDTH))\n",
    "    frame_height = int(cap.get(cv2.CAP_PROP_FRAME_HEIGHT))\n",
    "    #fourcc = int(cap.get(cv2.CAP_PROP_FOURCC))\n",
    "    fourcc = cv2.VideoWriter_fourcc(*'mp4v')\n",
    "    # Create a VideoWriter object to write the new video\n",
    "    out = cv2.VideoWriter(output_video_path, fourcc, fps, (frame_width, frame_height))\n",
    "    \n",
    "    # Write the images as the initial frames\n",
    "    for image_file in image_files:\n",
    "        image_path = os.path.join(image_folder, image_file)\n",
    "        image = cv2.imread(image_path)\n",
    "        if image is None:\n",
    "            print(f\"Warning: Could not read image {image_path}. Skipping.\")\n",
    "            continue\n",
    "        out.write(image)    \n",
    "    # Append the original video frames\n",
    "    while True:\n",
    "        ret, frame = cap.read()\n",
    "        if not ret:\n",
    "            break\n",
    "        out.write(frame)\n",
    "\n",
    "    cap.release()\n",
    "    out.release()\n",
    "    \n",
    "    print(f\"New video saved as {output_video_path}\")"
   ]
  },
  {
   "cell_type": "markdown",
   "id": "26c8be2e-c365-4ac7-a83d-e979026fa336",
   "metadata": {},
   "source": [
    "# Edit Movies"
   ]
  },
  {
   "cell_type": "code",
   "execution_count": null,
   "id": "5304b586-d7c2-4ccc-8de0-dc0587fdf1df",
   "metadata": {},
   "outputs": [],
   "source": []
  },
  {
   "cell_type": "code",
   "execution_count": 37,
   "id": "7ad809d8-bd93-4eb5-9fdc-bf0b271eb7fd",
   "metadata": {},
   "outputs": [],
   "source": [
    "# Paths to the input images and video\n",
    "image_folder = '/mnt/DATA/Mahsa/movies/LongRecordings/2024-09-17/W2tq9262/UpperCam_Devided/20pieces/Behavior_6_images'  # Folder containing images to prepend\n",
    "video_path = '/mnt/DATA/Mahsa/movies/LongRecordings/2024-09-17/W2tq9262/UpperCam_Devided/20pieces/Behavior_6.mp4' \n",
    "output_path = '/mnt/DATA/Mahsa/movies/LongRecordings/2024-09-17/W2tq9262/UpperCam_Devided/20pieces/Behavior_6.mp4' \n",
    "\n"
   ]
  },
  {
   "cell_type": "code",
   "execution_count": null,
   "id": "c9a86959-15fc-46e2-b15f-667df5f7aa3d",
   "metadata": {},
   "outputs": [],
   "source": []
  },
  {
   "cell_type": "code",
   "execution_count": 38,
   "id": "63abb568-d1d5-406e-90b7-62c4ad3c8e3d",
   "metadata": {},
   "outputs": [
    {
     "name": "stdout",
     "output_type": "stream",
     "text": [
      "Frame 109 saved successfully at /mnt/DATA/Mahsa/movies/LongRecordings/2024-09-17/W2tq9262/UpperCam_Devided/20pieces/Behavior_6_fr109.jpg\n",
      "Frame 110 saved successfully at /mnt/DATA/Mahsa/movies/LongRecordings/2024-09-17/W2tq9262/UpperCam_Devided/20pieces/Behavior_6_fr110.jpg\n",
      "Frame 111 saved successfully at /mnt/DATA/Mahsa/movies/LongRecordings/2024-09-17/W2tq9262/UpperCam_Devided/20pieces/Behavior_6_fr111.jpg\n",
      "Frame 112 saved successfully at /mnt/DATA/Mahsa/movies/LongRecordings/2024-09-17/W2tq9262/UpperCam_Devided/20pieces/Behavior_6_fr112.jpg\n",
      "Frame 113 saved successfully at /mnt/DATA/Mahsa/movies/LongRecordings/2024-09-17/W2tq9262/UpperCam_Devided/20pieces/Behavior_6_fr113.jpg\n",
      "Frame 114 saved successfully at /mnt/DATA/Mahsa/movies/LongRecordings/2024-09-17/W2tq9262/UpperCam_Devided/20pieces/Behavior_6_fr114.jpg\n",
      "Frame 115 saved successfully at /mnt/DATA/Mahsa/movies/LongRecordings/2024-09-17/W2tq9262/UpperCam_Devided/20pieces/Behavior_6_fr115.jpg\n",
      "Frame 116 saved successfully at /mnt/DATA/Mahsa/movies/LongRecordings/2024-09-17/W2tq9262/UpperCam_Devided/20pieces/Behavior_6_fr116.jpg\n",
      "Frame 117 saved successfully at /mnt/DATA/Mahsa/movies/LongRecordings/2024-09-17/W2tq9262/UpperCam_Devided/20pieces/Behavior_6_fr117.jpg\n",
      "Frame 118 saved successfully at /mnt/DATA/Mahsa/movies/LongRecordings/2024-09-17/W2tq9262/UpperCam_Devided/20pieces/Behavior_6_fr118.jpg\n"
     ]
    }
   ],
   "source": [
    "for frame_num in range(109,119):\n",
    "    path = video_path.split('.')[0]    \n",
    "    result_path = path +'_fr' + str(frame_num) + '.jpg'\n",
    "    save_frame(video_path, frame_num, result_path)"
   ]
  },
  {
   "cell_type": "code",
   "execution_count": 42,
   "id": "c6bf5547-0318-43aa-b1dc-5ef5bd20e746",
   "metadata": {},
   "outputs": [
    {
     "name": "stdout",
     "output_type": "stream",
     "text": [
      "New video saved as /mnt/DATA/Mahsa/movies/LongRecordings/2024-09-17/W2tq9262/UpperCam_Devided/20pieces/Behavior_6_10frAdded.avi\n"
     ]
    }
   ],
   "source": [
    "outpath = video_path.split('.')[0] + '_10frAdded.avi'  \n",
    "\n",
    "Add_frames(image_folder,video_path,outpath)"
   ]
  },
  {
   "cell_type": "code",
   "execution_count": 28,
   "id": "4ac962fe-bd51-44d0-bf98-e3c2c3d2ff53",
   "metadata": {},
   "outputs": [],
   "source": [
    "image_folder = '/mnt/DATA/Mahsa/movies/LongRecordings/2024-09-17/W2tq9262/Confocal_devided/Confocal_16_images'  # Folder containing images to prepend\n",
    "video_path = '/mnt/DATA/Mahsa/movies/LongRecordings/2024-09-17/W2tq9262/Confocal_devided/Confocal_16.mp4'\n",
    "output_path = '/mnt/DATA/Mahsa/movies/LongRecordings/2024-09-17/W2tq9262/Confocal_devided/Confocal_16.mp4'"
   ]
  },
  {
   "cell_type": "code",
   "execution_count": 33,
   "id": "b2b8222d-13ec-4368-9d59-33a88fe85798",
   "metadata": {},
   "outputs": [
    {
     "name": "stdout",
     "output_type": "stream",
     "text": [
      "Frame 230 saved successfully at /mnt/DATA/Mahsa/movies/LongRecordings/2024-09-17/W2tq9262/Confocal_devided/Confocal_16_fr230.jpg\n",
      "Frame 231 saved successfully at /mnt/DATA/Mahsa/movies/LongRecordings/2024-09-17/W2tq9262/Confocal_devided/Confocal_16_fr231.jpg\n",
      "Frame 232 saved successfully at /mnt/DATA/Mahsa/movies/LongRecordings/2024-09-17/W2tq9262/Confocal_devided/Confocal_16_fr232.jpg\n",
      "Frame 233 saved successfully at /mnt/DATA/Mahsa/movies/LongRecordings/2024-09-17/W2tq9262/Confocal_devided/Confocal_16_fr233.jpg\n",
      "Frame 234 saved successfully at /mnt/DATA/Mahsa/movies/LongRecordings/2024-09-17/W2tq9262/Confocal_devided/Confocal_16_fr234.jpg\n",
      "Frame 235 saved successfully at /mnt/DATA/Mahsa/movies/LongRecordings/2024-09-17/W2tq9262/Confocal_devided/Confocal_16_fr235.jpg\n",
      "Frame 236 saved successfully at /mnt/DATA/Mahsa/movies/LongRecordings/2024-09-17/W2tq9262/Confocal_devided/Confocal_16_fr236.jpg\n",
      "Frame 237 saved successfully at /mnt/DATA/Mahsa/movies/LongRecordings/2024-09-17/W2tq9262/Confocal_devided/Confocal_16_fr237.jpg\n",
      "Frame 238 saved successfully at /mnt/DATA/Mahsa/movies/LongRecordings/2024-09-17/W2tq9262/Confocal_devided/Confocal_16_fr238.jpg\n",
      "Frame 239 saved successfully at /mnt/DATA/Mahsa/movies/LongRecordings/2024-09-17/W2tq9262/Confocal_devided/Confocal_16_fr239.jpg\n"
     ]
    }
   ],
   "source": [
    "for frame_num in range(230,240):\n",
    "    path = video_path.split('.')[0]    \n",
    "    result_path = path +'_fr' + str(frame_num) + '.jpg'\n",
    "    save_frame(video_path, frame_num, result_path)"
   ]
  },
  {
   "cell_type": "code",
   "execution_count": 34,
   "id": "9a1d09ef-a4a5-4cd4-b844-02dce78be53d",
   "metadata": {},
   "outputs": [
    {
     "name": "stdout",
     "output_type": "stream",
     "text": [
      "New video saved as /mnt/DATA/Mahsa/movies/LongRecordings/2024-09-17/W2tq9262/Confocal_devided/Confocal_16_6frAdded.avi\n"
     ]
    }
   ],
   "source": [
    "outpath = video_path.split('.')[0] + '_6frAdded.mp4'  \n",
    "\n",
    "Add_frames(image_folder,video_path,outpath)"
   ]
  },
  {
   "cell_type": "code",
   "execution_count": null,
   "id": "ff558ea5-acd2-4f9f-b024-d1b7b644eaa2",
   "metadata": {},
   "outputs": [],
   "source": []
  }
 ],
 "metadata": {
  "kernelspec": {
   "display_name": "Python 3 (ipykernel)",
   "language": "python",
   "name": "python3"
  },
  "language_info": {
   "codemirror_mode": {
    "name": "ipython",
    "version": 3
   },
   "file_extension": ".py",
   "mimetype": "text/x-python",
   "name": "python",
   "nbconvert_exporter": "python",
   "pygments_lexer": "ipython3",
   "version": "3.8.18"
  }
 },
 "nbformat": 4,
 "nbformat_minor": 5
}
