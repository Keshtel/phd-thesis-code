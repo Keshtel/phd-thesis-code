{
 "cells": [
  {
   "cell_type": "markdown",
   "id": "2977ba86",
   "metadata": {},
   "source": [
    "# this sctipt crops a desired avi move from upper camera at the crop coordinates given below and saves them in a format readable by Fiji"
   ]
  },
  {
   "cell_type": "code",
   "execution_count": 2,
   "id": "c6863a33",
   "metadata": {},
   "outputs": [],
   "source": [
    "import cv2"
   ]
  },
  {
   "cell_type": "code",
   "execution_count": 3,
   "id": "5443cb01",
   "metadata": {},
   "outputs": [],
   "source": [
    "def crop_avi_video(input_file, output_file, left, lower, right, top, num_frames=None):\n",
    "    # Open the input video file\n",
    "    cap = cv2.VideoCapture(input_file)\n",
    "\n",
    "    # Get video properties\n",
    "    fps = cap.get(cv2.CAP_PROP_FPS)\n",
    "    width = int(cap.get(cv2.CAP_PROP_FRAME_WIDTH))\n",
    "    height = int(cap.get(cv2.CAP_PROP_FRAME_HEIGHT))\n",
    "    codec = int(cap.get(cv2.CAP_PROP_FOURCC))  # Codec used for compression\n",
    "    \n",
    "    # Calculate the cropping box\n",
    "    crop_width = right - left\n",
    "    crop_height = top - lower\n",
    "\n",
    "    # Open the VideoWriter to save the cropped video\n",
    "    fourcc = codec  # Save in a format compatible with Fiji (XVID or MJPG)\n",
    "    out = cv2.VideoWriter(output_file, fourcc, fps, (crop_width, crop_height))\n",
    "    if num_frames is None:\n",
    "        num_frames = int(cap.get(cv2.CAP_PROP_FRAME_COUNT))\n",
    "    frame_count = 0\n",
    "    # Read and process each frame\n",
    "    while frame_count < num_frames:\n",
    "        ret, frame = cap.read()\n",
    "        if not ret:\n",
    "            break  # Break the loop if no more frames\n",
    "\n",
    "        # Crop the frame\n",
    "        cropped_frame = frame[lower:top, left:right]\n",
    "\n",
    "        # Write the cropped frame to the output video\n",
    "        out.write(cropped_frame)\n",
    "        frame_count += 1\n",
    "\n",
    "    # Release resources\n",
    "    cap.release()\n",
    "    out.release()\n",
    "\n",
    "    print(f\"Cropped video saved as {output_file}\")"
   ]
  },
  {
   "cell_type": "code",
   "execution_count": 4,
   "id": "158eecd0",
   "metadata": {},
   "outputs": [
    {
     "data": {
      "text/plain": [
       "\"\\ninput_avi = '/mnt/DATA/Mahsa/movies/LongRecordings/2024-09-17/W3sjr16/temp-09172024185259-0000.avi' \\noutput_avi = '/mnt/DATA/Mahsa/movies/LongRecordings/2024-09-17/W3sjr16/temp-09172024185259-crop.avi' \\nleft, lower, right, top = 1100, 700, 1750, 1100\\n\""
      ]
     },
     "execution_count": 4,
     "metadata": {},
     "output_type": "execute_result"
    }
   ],
   "source": [
    "#parameters\n",
    "input_avi = '/mnt/DATA/Mahsa/movies/LongRecordings/2024-09-20/W1sjr16/temp-09202024121027-0000.avi'\n",
    "output_avi = '/mnt/DATA/Mahsa/movies/LongRecordings/2024-09-20/W1sjr16/temp-09202024121027-crop.avi'\n",
    "left, lower, right, top = 200,600,1000,1100\n",
    "'''\n",
    "input_avi = '/mnt/DATA/Mahsa/movies/LongRecordings/2024-09-17/W3sjr16/temp-09172024185259-0000.avi' \n",
    "output_avi = '/mnt/DATA/Mahsa/movies/LongRecordings/2024-09-17/W3sjr16/temp-09172024185259-crop.avi' \n",
    "left, lower, right, top = 1100, 700, 1750, 1100\n",
    "'''\n",
    "\n"
   ]
  },
  {
   "cell_type": "code",
   "execution_count": 5,
   "id": "0bc0ee5d",
   "metadata": {},
   "outputs": [
    {
     "name": "stdout",
     "output_type": "stream",
     "text": [
      "Cropped video saved as /mnt/DATA/Mahsa/movies/LongRecordings/2024-09-20/W1sjr16/temp-09202024121027-crop.avi\n"
     ]
    }
   ],
   "source": [
    "crop_avi_video(input_avi, output_avi, left, lower, right, top)"
   ]
  },
  {
   "cell_type": "code",
   "execution_count": 5,
   "id": "a5d2c5db",
   "metadata": {},
   "outputs": [
    {
     "name": "stdout",
     "output_type": "stream",
     "text": [
      "File 'temp-09172024185259-0000.avi' exists in the directory.\n"
     ]
    }
   ],
   "source": [
    "#check if the file is in directory\n",
    "import os\n",
    "directory = '/mnt/DATA/Mahsa/movies/LongRecordings/2024-09-17/W3sjr16/'\n",
    "file_name = 'temp-09172024185259-0000.avi'\n",
    "file_path = os.path.join(directory, file_name)\n",
    "if os.path.exists(file_path):\n",
    "    print(f\"File '{file_name}' exists in the directory.\")\n",
    "else:\n",
    "    print(f\"File '{file_name}' does not exist in the directory.\")"
   ]
  },
  {
   "cell_type": "code",
   "execution_count": null,
   "id": "895800d7",
   "metadata": {},
   "outputs": [],
   "source": []
  }
 ],
 "metadata": {
  "kernelspec": {
   "display_name": "Python 3 (ipykernel)",
   "language": "python",
   "name": "python3"
  },
  "language_info": {
   "codemirror_mode": {
    "name": "ipython",
    "version": 3
   },
   "file_extension": ".py",
   "mimetype": "text/x-python",
   "name": "python",
   "nbconvert_exporter": "python",
   "pygments_lexer": "ipython3",
   "version": "3.9.19"
  }
 },
 "nbformat": 4,
 "nbformat_minor": 5
}
